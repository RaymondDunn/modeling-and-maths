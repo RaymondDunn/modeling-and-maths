{
 "cells": [
  {
   "cell_type": "code",
   "execution_count": 1,
   "metadata": {},
   "outputs": [],
   "source": [
    "# imports\n",
    "import numpy as np\n",
    "import matplotlib.pyplot as plt\n",
    "import matplotlib.collections as mcoll\n",
    "import matplotlib.path as mpath\n",
    "import random\n",
    "\n",
    "# This import registers the 3D projection, but is otherwise unused.\n",
    "from mpl_toolkits.mplot3d import Axes3D  # noqa: F401 unused import\n",
    "import random\n",
    "import numba\n",
    "from numba import jit\n",
    "import seaborn as sns\n",
    "from sklearn import svm\n",
    "import sklearn.metrics as metrics\n",
    "import pandas as pd\n",
    "\n",
    "\n",
    "\n",
    "%matplotlib qt\n",
    "sns.set_style('whitegrid')"
   ]
  },
  {
   "cell_type": "code",
   "execution_count": 7,
   "metadata": {},
   "outputs": [],
   "source": [
    "\n",
    "# Simple function for euler approximation of dyns\n",
    "def run_simulation(ics, ode, dt=0.01, num_steps=2000, ode_ops={}):\n",
    "\n",
    "    # initialize output vector\n",
    "    num_svs = len(ics)\n",
    "    ys = np.zeros((int(num_steps/dt), num_svs))\n",
    "    ys[:] = np.NaN\n",
    "\n",
    "    # Set initial values\n",
    "    ys[0, :] = ics\n",
    "\n",
    "    # Step through \"time\", calculating the partial derivatives at the current point\n",
    "    # and using them to estimate the next point\n",
    "    for i in range(ys.shape[0]-1):\n",
    "\n",
    "        # calculate next step\n",
    "        y_dot = ode(ys[i, :], ode_ops=ode_ops)\n",
    "        ys[i + 1, :] = ys[i, :] + (y_dot * dt)\n",
    "\n",
    "        # printout on 10% progress\n",
    "        #if i % (ys.shape[0]//10) == 0:\n",
    "        #    print('Simulating step {}'.format(i))\n",
    "    \n",
    "    return ys\n",
    "\n",
    "\n",
    "# helper to plot results from simulation\n",
    "def plot_simulation(ys, dt=0.01, num_steps=2000, beh=None):\n",
    "\n",
    "    # set some local vars\n",
    "    num_svs = ys.shape[1]\n",
    "    xvals = np.arange(num_steps, step=dt)\n",
    "    plot_offset = num_svs-1\n",
    "\n",
    "    # plot overlapping line plot of each state variable\n",
    "    plt.figure()\n",
    "    ax1 = plt.subplot(211)\n",
    "    ax2 = plt.subplot(212)\n",
    "\n",
    "    # iterate state variables and plot\n",
    "    for sv in range(num_svs):\n",
    "\n",
    "        # plot first plot\n",
    "        to_plot = ys[:,sv]\n",
    "        ax1.plot(xvals, to_plot, label='x{}'.format(sv))\n",
    "\n",
    "        # plot second\n",
    "        to_plot2 = (to_plot - np.min(to_plot)) / (np.max(to_plot) - np.min(to_plot))\n",
    "        ax2.plot(xvals, to_plot2 + plot_offset, label='x{}'.format(sv))\n",
    "\n",
    "        plot_offset -= 1\n",
    "    \n",
    "    # decorate ax1\n",
    "    ax1.legend(loc='upper left')\n",
    "    ax1.get_xaxis().set_visible(False)\n",
    "    ax1.set_ylabel('y')\n",
    "\n",
    "    # decorate ax2\n",
    "    # ax2.legend(loc='upper left')\n",
    "    ax2.set_xlabel('t')\n",
    "    # ax2.get_yaxis().set_visible(False)\n",
    "    ax2.set_yticks([x for x in range(num_svs)])\n",
    "    ax2.set_yticklabels(['x{}'.format(x) for x in range(num_svs)])\n",
    "    plt.tight_layout()\n",
    "\n",
    "    # plot qualitative behavior if necessary\n",
    "    if beh is not None:        \n",
    "\n",
    "        # plot line plot of behaviour, normalized\n",
    "        to_plot = beh.astype(float)\n",
    "        to_plot2 = (to_plot - np.min(to_plot)) / (np.max(to_plot) - np.min(to_plot))\n",
    "        ax2.plot(xvals, beh + num_svs, label='beh')\n",
    "\n",
    "        # fix y axis\n",
    "        # if behavior is a single vector\n",
    "        if beh.ndim == 1:\n",
    "            ax2.set_yticks([x for x in range(num_svs+1)])\n",
    "            yticklabels = ['x{}'.format(x) for x in range(num_svs)]\n",
    "            yticklabels.append('behavior')\n",
    "            ax2.set_yticklabels(yticklabels)\n",
    "\n",
    "\n",
    "# helper to ascribe qualitative behavior to output from run_simulation\n",
    "def add_behavior_to_sim(ys, beh_fxn, beh_ops={}):\n",
    "\n",
    "    # get return vector\n",
    "    beh = beh_fxn(ys, beh_ops=beh_ops)\n",
    "\n",
    "    # for now just return that\n",
    "    return beh\n",
    "\n",
    "\n",
    "# helper function to report regression results\n",
    "def regression_results(y_true, y_pred):\n",
    "    \n",
    "    # Regression metrics\n",
    "    explained_variance=metrics.explained_variance_score(y_true, y_pred)\n",
    "    mean_absolute_error=metrics.mean_absolute_error(y_true, y_pred) \n",
    "    mse=metrics.mean_squared_error(y_true, y_pred) \n",
    "    mean_squared_log_error=metrics.mean_squared_log_error(y_true, y_pred)\n",
    "    median_absolute_error=metrics.median_absolute_error(y_true, y_pred)\n",
    "    r2=metrics.r2_score(y_true, y_pred)\n",
    "    print('explained_variance: ', round(explained_variance,4))    \n",
    "    print('mean_squared_log_error: ', round(mean_squared_log_error,4))\n",
    "    print('r2: ', round(r2,4))\n",
    "    print('MAE: ', round(mean_absolute_error,4))\n",
    "    print('MSE: ', round(mse,4))\n",
    "    print('RMSE: ', round(np.sqrt(mse),4))\n",
    "\n",
    "\n",
    "def convert_sim_matrices_to_dataframe(ys, beh):\n",
    "    \n",
    "    # add timepoints as dictionaries to convert to dataframe\n",
    "    state_var_sample_list = []\n",
    "    for t in range(len(beh)):\n",
    "        \n",
    "        # at timepoint and behavior output\n",
    "        mysample = {\n",
    "            't': t,\n",
    "            'beh': beh[t],\n",
    "        }\n",
    "\n",
    "        # add state vars\n",
    "        for x in range(ys.shape[1]):\n",
    "            mysample['x{}'.format(x)] = ys[t, x]\n",
    "\n",
    "        # append sample\n",
    "        state_var_sample_list.append(mysample)\n",
    "\n",
    "    # convert to dataframe\n",
    "    df = pd.DataFrame(state_var_sample_list)\n",
    "\n",
    "    return df\n",
    "\n",
    "def train_predictive_model(ys, beh, model_ops={}):\n",
    "\n",
    "    model_type = model_ops.get('model_type', 'SVM')\n",
    "    plot_flag = model_ops.get('plot_flag', True)\n",
    "\n",
    "    if model_type == 'SVM':\n",
    "\n",
    "        # build linear model and fit\n",
    "        clf = svm.LinearSVC()\n",
    "        y_actual = beh.astype(float)\n",
    "        m = clf.fit(ys, y_actual)\n",
    "\n",
    "        if plot_flag:\n",
    "            \n",
    "            # plot all samples of each state var as their own \n",
    "            plt.figure()\n",
    "            df = convert_sim_matrices_to_dataframe(ys, beh)\n",
    "            sns.scatterplot(data=df, x='x0', y='x1', hue='beh')\n",
    "            plt.tight_layout()\n",
    "\n",
    "            # plot shaded contour of xy samples\n",
    "            X = ys\n",
    "            h = model_ops.get('contour_mesh_step_size', .02)  # step size in the mesh\n",
    "            x_min, x_max = X[:, 0].min() - 1, X[:, 0].max() + 1\n",
    "            y_min, y_max = X[:, 1].min() - 1, X[:, 1].max() + 1\n",
    "            xx, yy = np.meshgrid(np.arange(x_min, x_max, h),\n",
    "                                np.arange(y_min, y_max, h))\n",
    "            Z = m.predict(np.c_[xx.ravel(), yy.ravel()])\n",
    "            \n",
    "            # Put the result into a color plot\n",
    "            Z = Z.reshape(xx.shape)\n",
    "            plt.figure()\n",
    "            plt.contourf(xx, yy, Z, cmap=plt.cm.coolwarm, alpha=0.6)\n",
    "            plt.xlabel('x0')\n",
    "            plt.ylabel('x1')\n",
    "            plt.tight_layout()\n",
    "\n",
    "        return m\n",
    "\n",
    "# simple behavior model where if, given two oscillators, whenever 1 is greater than the other\n",
    "# referencing these functions in clear terms will be weird so this will just be a lookup table\n",
    "def simple_behavior(ys, beh_ops={}):\n",
    "    \n",
    "    # select model type\n",
    "    model_type = beh_ops.get('model_type', 'greater than')\n",
    "\n",
    "    # carry out\n",
    "    if model_type == 'greater than':\n",
    "\n",
    "        # in case of two units\n",
    "        if ys.shape[1] == 2:\n",
    "            ret = ys[:,0] > ys[:,1]\n",
    "    \n",
    "    # return behavior structure\n",
    "    return ret"
   ]
  },
  {
   "cell_type": "code",
   "execution_count": 8,
   "metadata": {},
   "outputs": [],
   "source": [
    "# modle for single harmonic oscillator\n",
    "def harmonic_oscillator_ode(ys_i, ode_ops={}):\n",
    "\n",
    "    vt_old = ys_i[0]\n",
    "    xt_old = ys_i[1]\n",
    "    k = ode_ops['k']\n",
    "    m = ode_ops['m']\n",
    "\n",
    "    # simple harmonic oscillator as two coupled odes\n",
    "    dvdt = (-k/m)*xt_old\n",
    "    dxdt = vt_old\n",
    "\n",
    "    return np.array([dvdt, dxdt])\n",
    "\n",
    "\n",
    "ics = [0, 1]\n",
    "ode_ops = {'k': 1, 'm': 1}\n",
    "num_steps = 100\n",
    "dt = 0.001\n",
    "ys = run_simulation(ics, ode=harmonic_oscillator_ode, dt=dt, num_steps=num_steps, ode_ops=ode_ops)\n",
    "plot_simulation(ys, dt=dt, num_steps=num_steps)"
   ]
  },
  {
   "cell_type": "code",
   "execution_count": 11,
   "metadata": {},
   "outputs": [],
   "source": [
    "#########################################################\n",
    "####### modle for coupled harmonic oscillators ##########\n",
    "#########################################################\n",
    "def coupled_oscillator_ode(ys_i, ode_ops={}):\n",
    "\n",
    "    # unpack local vars\n",
    "    v1_old, x1_old, v2_old, x2_old = ys_i\n",
    "    k = ode_ops['k']\n",
    "    kprime = ode_ops['kprime']\n",
    "    m = ode_ops['m']\n",
    "\n",
    "    # two identical harmonic oscillators, coupled by an additional spring\n",
    "    dv1 = (-(k + kprime) * x1_old + kprime*x2_old)/m\n",
    "    dx1 = v1_old\n",
    "    dv2 = (-(k + kprime) * x2_old + kprime*x1_old)/m\n",
    "    dx2 = v2_old\n",
    "\n",
    "    return np.array([dv1, dx1, dv2, dx2])\n",
    "\n",
    "\n",
    "ics = [0, 3, 0, 7]\n",
    "ode_ops = {'k': 1, 'm': 3, 'kprime': 3}\n",
    "num_steps = 100\n",
    "dt = 0.001\n",
    "ys = run_simulation(ics, ode=coupled_oscillator_ode, dt=dt, num_steps=num_steps, ode_ops=ode_ops)\n",
    "plot_simulation(ys[:, [1,3]], dt=dt, num_steps=num_steps)\n"
   ]
  },
  {
   "cell_type": "code",
   "execution_count": 50,
   "metadata": {},
   "outputs": [
    {
     "data": {
      "text/plain": [
       "Text(0, 0.5, 'x1')"
      ]
     },
     "execution_count": 50,
     "metadata": {},
     "output_type": "execute_result"
    }
   ],
   "source": [
    "###########################\n",
    "### add behavior ##########\n",
    "###########################\n",
    "\n",
    "ics = [0, 3, 0, 7]\n",
    "ode_ops = {'k': 1, 'm': 3, 'kprime': 3}\n",
    "num_steps = 100\n",
    "dt = 0.001\n",
    "ys = run_simulation(ics, ode=coupled_oscillator_ode, dt=dt, num_steps=num_steps, ode_ops=ode_ops)\n",
    "ys = ys[:, [1,3]]\n",
    "beh = add_behavior_to_sim(ys, beh_fxn=simple_behavior, beh_ops={'model_type':'greater than'})\n",
    "plot_simulation(ys, dt=dt, num_steps=num_steps, beh=beh)\n",
    "\n",
    "# state space\n",
    "plt.figure()\n",
    "plt.plot(ys[:,0], ys[:,1])\n",
    "plt.xlabel('x0')\n",
    "plt.ylabel('x1')"
   ]
  },
  {
   "cell_type": "code",
   "execution_count": 49,
   "metadata": {},
   "outputs": [
    {
     "name": "stderr",
     "output_type": "stream",
     "text": [
      "c:\\Users\\rldun\\miniconda3\\envs\\gcamp_extractor_39\\lib\\site-packages\\sklearn\\svm\\_base.py:1206: ConvergenceWarning: Liblinear failed to converge, increase the number of iterations.\n",
      "  warnings.warn(\n"
     ]
    },
    {
     "data": {
      "text/plain": [
       "Text(48.847222222222214, 0.5, 'x1')"
      ]
     },
     "execution_count": 49,
     "metadata": {},
     "output_type": "execute_result"
    }
   ],
   "source": [
    "#####################################\n",
    "### train predictive model ##########\n",
    "#####################################\n",
    "\n",
    "ics = [0, 3, 0, 7]\n",
    "ode_ops = {'k': 1, 'm': 3, 'kprime': 3}\n",
    "num_steps = 100\n",
    "dt = 0.001\n",
    "ys = run_simulation(ics, ode=coupled_oscillator_ode, dt=dt, num_steps=num_steps, ode_ops=ode_ops)\n",
    "ys = ys[:, [1,3]]\n",
    "beh = add_behavior_to_sim(ys, beh_fxn=simple_behavior, beh_ops={'model_type':'greater than'})\n",
    "model_ops = {'model_type': \"SVM\", \"plot_flag\": True}\n",
    "mdl = train_predictive_model(ys, beh, model_ops=model_ops)\n",
    "\n"
   ]
  },
  {
   "cell_type": "code",
   "execution_count": 48,
   "metadata": {},
   "outputs": [
    {
     "data": {
      "text/plain": [
       "Text(0, 0.5, 'x1')"
      ]
     },
     "execution_count": 48,
     "metadata": {},
     "output_type": "execute_result"
    }
   ],
   "source": [
    "#######################################\n",
    "######### van der pols ################\n",
    "#######################################\n",
    "# via https://www.johndcook.com/blog/2019/12/22/van-der-pol/ and https://galileo-unbound.blog/2019/08/26/the-fast-and-the-slow-of-grandfather-clocks/\n",
    "\n",
    "def van_der_pols_ode(ys_i, ode_ops={}):\n",
    "    mu = ode_ops.get('mu')\n",
    "    x, y = ys_i\n",
    "    dx = y\n",
    "    dy = mu*(1 - x**2)*y - x\n",
    "    return np.array([dx, dy])\n",
    "\n",
    "ics = [0, 1]\n",
    "ode_ops = {'mu': 1.2}\n",
    "num_steps = 20\n",
    "dt = 0.001\n",
    "ys = run_simulation(ics, ode=van_der_pols_ode, dt=dt, num_steps=num_steps, ode_ops=ode_ops)\n",
    "plot_simulation(ys, dt=dt, num_steps=num_steps)\n",
    "\n",
    "# state space\n",
    "plt.figure()\n",
    "plt.plot(ys[:,0], ys[:,1])\n",
    "plt.xlabel('x0')\n",
    "plt.ylabel('x1')"
   ]
  },
  {
   "cell_type": "code",
   "execution_count": 107,
   "metadata": {},
   "outputs": [
    {
     "name": "stderr",
     "output_type": "stream",
     "text": [
      "C:\\Users\\rldun\\miniconda3\\envs\\gcamp_extractor_39\\lib\\site-packages\\sklearn\\svm\\_base.py:1206: ConvergenceWarning: Liblinear failed to converge, increase the number of iterations.\n",
      "  warnings.warn(\n"
     ]
    },
    {
     "name": "stdout",
     "output_type": "stream",
     "text": [
      "explained_variance:  0.0827\n",
      "mean_squared_log_error:  0.104\n",
      "r2:  0.0352\n",
      "MAE:  0.2163\n",
      "MSE:  0.2163\n",
      "RMSE:  0.465\n"
     ]
    },
    {
     "data": {
      "text/plain": [
       "Text(0, 0.5, 'SMDV')"
      ]
     },
     "execution_count": 107,
     "metadata": {},
     "output_type": "execute_result"
    }
   ],
   "source": [
    "# load dataset of OLQV, OLQD, AVA, and SMD around turns\n",
    "df = pd.read_csv('./20220427_0ATR_OLQ_AVA_SMD_trace_df.csv')\n",
    "\n",
    "# select based on timepoints\n",
    "df = df[df['t'].isin([0, 1, 2, 3, 4, 5])]\n",
    "\n",
    "# select based on neurons\n",
    "smdv = df[df['neuron ID'] == 'SMDV']\n",
    "ava = df[df['neuron ID'] == 'AVA']\n",
    "\n",
    "# grab state variablesz\n",
    "x0 = smdv['yvals'].to_numpy()\n",
    "x1 = smdv['deriv'].to_numpy()\n",
    "x2 = ava['yvals'].to_numpy()\n",
    "x3 = ava['deriv'].to_numpy()\n",
    "ys = np.array([x0, x1, x2, x3]).T\n",
    "\n",
    "# grab behavior (it's the same across neurons)\n",
    "beh = smdv['turn label'].to_numpy()\n",
    "beh = beh == 'dorsal'\n",
    "\n",
    "# train model\n",
    "model_ops = {'model_type': 'SVM', 'plot_flag':False}\n",
    "model = train_predictive_model(ys, beh, model_ops=model_ops)\n",
    "\n",
    "# print regression results\n",
    "actual_behavior = beh\n",
    "predicted_behavior = model.predict(ys)\n",
    "# plt.figure()\n",
    "# plt.scatter(actual_behavior, predicted_behavior)\n",
    "regression_results(y_true=actual_behavior, y_pred=predicted_behavior)\n",
    "\n",
    "\n",
    "df = convert_sim_matrices_to_dataframe(ys, beh)\n",
    "\n",
    "plt.figure()\n",
    "sns.scatterplot(data=df, x='x1', y='x3', hue='beh')\n",
    "plt.xlabel('dAVA')\n",
    "plt.ylabel('dSMDV')\n",
    "\n",
    "plt.figure()\n",
    "sns.scatterplot(data=df, x='x0', y='x2', hue='beh')\n",
    "plt.xlabel('AVA')\n",
    "plt.ylabel('SMDV')\n",
    "\n",
    "plt.figure()\n",
    "sns.scatterplot(data=df, x='x0', y='x3', hue='beh')\n",
    "plt.xlabel('AVA')\n",
    "plt.ylabel('dSMDV')\n",
    "\n",
    "plt.figure()\n",
    "sns.scatterplot(data=df, x='x1', y='x2', hue='beh')\n",
    "plt.xlabel('dAVA')\n",
    "plt.ylabel('SMDV')\n",
    "\n",
    "\n",
    "\n",
    "# plot average plot of each neuron over this window\n",
    "#plt.figure()\n",
    "#to_plot = df\n",
    "#to_plot = to_plot[to_plot['neuron ID'] == 'AVA']\n",
    "#sns.lineplot(data=to_plot, x='yvals', y='deriv', hue='turn label')\n",
    "#plt.tight_layout()\n",
    "\n",
    "\n",
    "# plot state plot\n",
    "#plt.figure()\n",
    "#sns.pairplot(data=df, hue='neuron ID')\n"
   ]
  },
  {
   "cell_type": "code",
   "execution_count": 108,
   "metadata": {},
   "outputs": [
    {
     "data": {
      "text/plain": [
       "0.7837301587301587"
      ]
     },
     "execution_count": 108,
     "metadata": {},
     "output_type": "execute_result"
    }
   ],
   "source": []
  },
  {
   "cell_type": "code",
   "execution_count": 109,
   "metadata": {},
   "outputs": [
    {
     "data": {
      "text/plain": [
       "666"
      ]
     },
     "execution_count": 109,
     "metadata": {},
     "output_type": "execute_result"
    }
   ],
   "source": []
  },
  {
   "cell_type": "code",
   "execution_count": 110,
   "metadata": {},
   "outputs": [
    {
     "data": {
      "text/plain": [
       "342"
      ]
     },
     "execution_count": 110,
     "metadata": {},
     "output_type": "execute_result"
    }
   ],
   "source": []
  },
  {
   "cell_type": "code",
   "execution_count": null,
   "metadata": {},
   "outputs": [],
   "source": []
  }
 ],
 "metadata": {
  "kernelspec": {
   "display_name": "gcamp_extractor_39",
   "language": "python",
   "name": "python3"
  },
  "language_info": {
   "codemirror_mode": {
    "name": "ipython",
    "version": 3
   },
   "file_extension": ".py",
   "mimetype": "text/x-python",
   "name": "python",
   "nbconvert_exporter": "python",
   "pygments_lexer": "ipython3",
   "version": "3.9.7"
  },
  "orig_nbformat": 4,
  "vscode": {
   "interpreter": {
    "hash": "fddcf0040037cc7cb4f481019883c201b75eb305047e0f5b9e2dc7e6fd0fdaf6"
   }
  }
 },
 "nbformat": 4,
 "nbformat_minor": 2
}
