{
 "cells": [
  {
   "cell_type": "code",
   "execution_count": 128,
   "metadata": {},
   "outputs": [],
   "source": [
    "import numpy as np\n",
    "import matplotlib.pyplot as plt\n",
    "%matplotlib qt\n",
    "\n",
    "# 20250716  start off with a sinusoid\n",
    "num_tsteps = 1000\n",
    "tstart = 0\n",
    "tend = 2*np.pi\n",
    "tstep_vec = np.linspace(tstart, tend, num_tsteps)\n",
    "myfunc = np.sin\n",
    "sin_vec = myfunc(tstep_vec)\n",
    "\n",
    "# assemble into array of time shifted sinusoids\n",
    "num_shifts = num_tsteps\n",
    "arr = np.zeros((num_tsteps, num_shifts))\n",
    "shifted_steps = tstep_vec.copy()\n",
    "shift_interval = 10\n",
    "for ndx in range(len(shifted_steps)):\n",
    "    shifted_steps = np.roll(shifted_steps, shift_interval)\n",
    "    arr[ndx,:] = myfunc(shifted_steps)\n",
    "\n",
    "# scale to uint8\n",
    "arr = (arr - arr.min()) / (arr.max() - arr.min()) * 255\n",
    "arr = arr.astype(np.uint8)\n"
   ]
  },
  {
   "cell_type": "code",
   "execution_count": 129,
   "metadata": {},
   "outputs": [
    {
     "name": "stdout",
     "output_type": "stream",
     "text": [
      "{'uncompressed': 'len: 1000000', 'lzma': 'len: 1184', 'zlib': 'len: 9494', 'bz2': 'len: 4405', 'gzip': 'len: 7700'}\n"
     ]
    }
   ],
   "source": [
    "# try various compression algs\n",
    "d = arr.copy().flatten()\n",
    "\n",
    "# methods zlib, gzip, bzip2 and lzma\n",
    "import time\n",
    "import lzma\n",
    "import zlib\n",
    "import bz2\n",
    "import gzip\n",
    "\n",
    "# compress each\n",
    "compress_fxns_dict = {\n",
    "    'lzma': lzma,\n",
    "    'zlib': zlib,\n",
    "    'bz2': bz2,\n",
    "    'gzip': gzip,\n",
    "}\n",
    "params_dict = {}\n",
    "compress_data_dict = {}\n",
    "compress_text_dict = {}\n",
    "\n",
    "\n",
    "# make a formatted string or dict of results\n",
    "def make_results_string(x):\n",
    "    return 'len: {}'.format(len(x))\n",
    "\n",
    "# do first one\n",
    "compress_text_dict = {'uncompressed': make_results_string(d.copy())}\n",
    "\n",
    "# run through algs\n",
    "algs = list(compress_fxns_dict.keys())\n",
    "for alg in algs:\n",
    "    res = compress_fxns_dict[alg].compress(d.copy())\n",
    "    compress_text_dict[alg] = make_results_string(res)\n",
    "    compress_data_dict[alg] = compress_fxns_dict[alg].decompress(res)\n",
    "\n",
    "# print(compress_dict)\n",
    "print(compress_text_dict)\n"
   ]
  },
  {
   "cell_type": "code",
   "execution_count": 130,
   "metadata": {},
   "outputs": [
    {
     "data": {
      "text/plain": [
       "<matplotlib.legend.Legend at 0x24ea30d36d0>"
      ]
     },
     "execution_count": 130,
     "metadata": {},
     "output_type": "execute_result"
    }
   ],
   "source": [
    "myfig = plt.figure()\n",
    "\n",
    "for alg in algs:\n",
    "    ydot = compress_data_dict[alg]\n",
    "    new_arr = np.frombuffer(ydot, dtype=np.uint8).reshape((num_tsteps, num_shifts))\n",
    "    \n",
    "    # plt.imshow(new_arr)\n",
    "    plt.plot(new_arr[:,0], label=alg)\n",
    "\n",
    "plt.legend()"
   ]
  },
  {
   "cell_type": "code",
   "execution_count": null,
   "metadata": {},
   "outputs": [
    {
     "data": {
      "text/plain": [
       "[<matplotlib.lines.Line2D at 0x24ea09d3280>]"
      ]
     },
     "execution_count": 123,
     "metadata": {},
     "output_type": "execute_result"
    }
   ],
   "source": []
  },
  {
   "cell_type": "code",
   "execution_count": 88,
   "metadata": {},
   "outputs": [
    {
     "data": {
      "text/plain": [
       "1000000"
      ]
     },
     "execution_count": 88,
     "metadata": {},
     "output_type": "execute_result"
    }
   ],
   "source": []
  },
  {
   "cell_type": "code",
   "execution_count": null,
   "metadata": {},
   "outputs": [],
   "source": [
    "# some studies to check otu\n",
    "https://elifesciences.org/reviewed-preprints/92562v2"
   ]
  }
 ],
 "metadata": {
  "kernelspec": {
   "display_name": "wba",
   "language": "python",
   "name": "python3"
  },
  "language_info": {
   "codemirror_mode": {
    "name": "ipython",
    "version": 3
   },
   "file_extension": ".py",
   "mimetype": "text/x-python",
   "name": "python",
   "nbconvert_exporter": "python",
   "pygments_lexer": "ipython3",
   "version": "3.10.13"
  }
 },
 "nbformat": 4,
 "nbformat_minor": 2
}
